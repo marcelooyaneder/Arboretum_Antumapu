{
 "cells": [
  {
   "cell_type": "code",
   "execution_count": 2,
   "metadata": {},
   "outputs": [],
   "source": [
    "import pandas as pd\n",
    "record_level_document=pd.read_csv('Record_level.csv',header=0,sep=';')"
   ]
  },
  {
   "cell_type": "code",
   "execution_count": 3,
   "metadata": {},
   "outputs": [
    {
     "data": {
      "text/html": [
       "<div>\n",
       "<style scoped>\n",
       "    .dataframe tbody tr th:only-of-type {\n",
       "        vertical-align: middle;\n",
       "    }\n",
       "\n",
       "    .dataframe tbody tr th {\n",
       "        vertical-align: top;\n",
       "    }\n",
       "\n",
       "    .dataframe thead th {\n",
       "        text-align: right;\n",
       "    }\n",
       "</style>\n",
       "<table border=\"1\" class=\"dataframe\">\n",
       "  <thead>\n",
       "    <tr style=\"text-align: right;\">\n",
       "      <th></th>\n",
       "      <th>standardFieldName</th>\n",
       "      <th>verbatimFieldName</th>\n",
       "      <th>uri</th>\n",
       "    </tr>\n",
       "  </thead>\n",
       "  <tbody>\n",
       "    <tr>\n",
       "      <th>0</th>\n",
       "      <td>type</td>\n",
       "      <td>Tipo</td>\n",
       "      <td>http://purl.org/dc/terms/type</td>\n",
       "    </tr>\n",
       "    <tr>\n",
       "      <th>1</th>\n",
       "      <td>modified</td>\n",
       "      <td>Modificado</td>\n",
       "      <td>http://purl.org/dc/terms/modified</td>\n",
       "    </tr>\n",
       "    <tr>\n",
       "      <th>2</th>\n",
       "      <td>language</td>\n",
       "      <td>Idioma</td>\n",
       "      <td>http://purl.org/dc/terms/language</td>\n",
       "    </tr>\n",
       "    <tr>\n",
       "      <th>3</th>\n",
       "      <td>license</td>\n",
       "      <td>Licencia</td>\n",
       "      <td>http://purl.org/dc/terms/license</td>\n",
       "    </tr>\n",
       "    <tr>\n",
       "      <th>4</th>\n",
       "      <td>rightsHolder</td>\n",
       "      <td>Titular de los derechos</td>\n",
       "      <td>http://purl.org/dc/terms/rightsHolder</td>\n",
       "    </tr>\n",
       "    <tr>\n",
       "      <th>5</th>\n",
       "      <td>accessRights</td>\n",
       "      <td>Derechos de acceso</td>\n",
       "      <td>http://purl.org/dc/terms/accessRights</td>\n",
       "    </tr>\n",
       "    <tr>\n",
       "      <th>6</th>\n",
       "      <td>bibliographicCitation</td>\n",
       "      <td>Citación bibliográfica</td>\n",
       "      <td>http://purl.org/dc/terms/bibliographicCitation</td>\n",
       "    </tr>\n",
       "    <tr>\n",
       "      <th>7</th>\n",
       "      <td>references</td>\n",
       "      <td>Referencias</td>\n",
       "      <td>http://purl.org/dc/terms/references</td>\n",
       "    </tr>\n",
       "    <tr>\n",
       "      <th>8</th>\n",
       "      <td>institutionID</td>\n",
       "      <td>ID de la institución</td>\n",
       "      <td>http://rs.tdwg.org/dwc/terms/institutionID</td>\n",
       "    </tr>\n",
       "    <tr>\n",
       "      <th>9</th>\n",
       "      <td>collectionID</td>\n",
       "      <td>ID de la colección</td>\n",
       "      <td>http://rs.tdwg.org/dwc/terms/collectionID</td>\n",
       "    </tr>\n",
       "    <tr>\n",
       "      <th>10</th>\n",
       "      <td>datasetID</td>\n",
       "      <td>ID del conjunto de datos</td>\n",
       "      <td>http://rs.tdwg.org/dwc/terms/datasetID</td>\n",
       "    </tr>\n",
       "    <tr>\n",
       "      <th>11</th>\n",
       "      <td>institutionCode</td>\n",
       "      <td>Código de la institución</td>\n",
       "      <td>http://rs.tdwg.org/dwc/terms/institutionCode</td>\n",
       "    </tr>\n",
       "    <tr>\n",
       "      <th>12</th>\n",
       "      <td>collectionCode</td>\n",
       "      <td>Código de la colección</td>\n",
       "      <td>http://rs.tdwg.org/dwc/terms/collectionCode</td>\n",
       "    </tr>\n",
       "    <tr>\n",
       "      <th>13</th>\n",
       "      <td>datasetName</td>\n",
       "      <td>Nombre del conjunto de datos</td>\n",
       "      <td>http://rs.tdwg.org/dwc/terms/datasetName</td>\n",
       "    </tr>\n",
       "    <tr>\n",
       "      <th>14</th>\n",
       "      <td>ownerInstitutionCode</td>\n",
       "      <td>Código de la institución propietaria</td>\n",
       "      <td>http://rs.tdwg.org/dwc/terms/ownerInstitutionCode</td>\n",
       "    </tr>\n",
       "    <tr>\n",
       "      <th>15</th>\n",
       "      <td>basisOfRecord</td>\n",
       "      <td>Base del registro</td>\n",
       "      <td>http://rs.tdwg.org/dwc/terms/basisOfRecord</td>\n",
       "    </tr>\n",
       "    <tr>\n",
       "      <th>16</th>\n",
       "      <td>informationWithheld</td>\n",
       "      <td>Información retenida</td>\n",
       "      <td>http://rs.tdwg.org/dwc/terms/informationWithheld</td>\n",
       "    </tr>\n",
       "    <tr>\n",
       "      <th>17</th>\n",
       "      <td>dataGeneralizations</td>\n",
       "      <td>Generalización de los datos</td>\n",
       "      <td>http://rs.tdwg.org/dwc/terms/dataGeneralizations</td>\n",
       "    </tr>\n",
       "    <tr>\n",
       "      <th>18</th>\n",
       "      <td>dynamicProperties</td>\n",
       "      <td>Propiedades dinámicas</td>\n",
       "      <td>http://rs.tdwg.org/dwc/terms/dynamicProperties</td>\n",
       "    </tr>\n",
       "  </tbody>\n",
       "</table>\n",
       "</div>"
      ],
      "text/plain": [
       "        standardFieldName                     verbatimFieldName  \\\n",
       "0                    type                                  Tipo   \n",
       "1                modified                            Modificado   \n",
       "2                language                                Idioma   \n",
       "3                 license                              Licencia   \n",
       "4            rightsHolder               Titular de los derechos   \n",
       "5            accessRights                    Derechos de acceso   \n",
       "6   bibliographicCitation                Citación bibliográfica   \n",
       "7              references                           Referencias   \n",
       "8           institutionID                  ID de la institución   \n",
       "9            collectionID                    ID de la colección   \n",
       "10              datasetID              ID del conjunto de datos   \n",
       "11        institutionCode              Código de la institución   \n",
       "12         collectionCode                Código de la colección   \n",
       "13            datasetName          Nombre del conjunto de datos   \n",
       "14   ownerInstitutionCode  Código de la institución propietaria   \n",
       "15          basisOfRecord                     Base del registro   \n",
       "16    informationWithheld                  Información retenida   \n",
       "17    dataGeneralizations           Generalización de los datos   \n",
       "18      dynamicProperties                 Propiedades dinámicas   \n",
       "\n",
       "                                                  uri  \n",
       "0                       http://purl.org/dc/terms/type  \n",
       "1                   http://purl.org/dc/terms/modified  \n",
       "2                   http://purl.org/dc/terms/language  \n",
       "3                    http://purl.org/dc/terms/license  \n",
       "4               http://purl.org/dc/terms/rightsHolder  \n",
       "5               http://purl.org/dc/terms/accessRights  \n",
       "6      http://purl.org/dc/terms/bibliographicCitation  \n",
       "7                 http://purl.org/dc/terms/references  \n",
       "8          http://rs.tdwg.org/dwc/terms/institutionID  \n",
       "9           http://rs.tdwg.org/dwc/terms/collectionID  \n",
       "10             http://rs.tdwg.org/dwc/terms/datasetID  \n",
       "11       http://rs.tdwg.org/dwc/terms/institutionCode  \n",
       "12        http://rs.tdwg.org/dwc/terms/collectionCode  \n",
       "13           http://rs.tdwg.org/dwc/terms/datasetName  \n",
       "14  http://rs.tdwg.org/dwc/terms/ownerInstitutionCode  \n",
       "15         http://rs.tdwg.org/dwc/terms/basisOfRecord  \n",
       "16   http://rs.tdwg.org/dwc/terms/informationWithheld  \n",
       "17   http://rs.tdwg.org/dwc/terms/dataGeneralizations  \n",
       "18     http://rs.tdwg.org/dwc/terms/dynamicProperties  "
      ]
     },
     "execution_count": 3,
     "metadata": {},
     "output_type": "execute_result"
    }
   ],
   "source": [
    "record_level_document"
   ]
  },
  {
   "cell_type": "code",
   "execution_count": 3,
   "metadata": {},
   "outputs": [],
   "source": [
    "record_level_list=[]"
   ]
  },
  {
   "cell_type": "code",
   "execution_count": 4,
   "metadata": {},
   "outputs": [],
   "source": [
    "for rows in record_level_document.itertuples(): \n",
    "    # Create list for the current row \n",
    "    my_list =[f'{rows.standardFieldName}-{rows.verbatimFieldName}-{rows.uri}']   \n",
    "    # append the list to the final list \n",
    "    record_level_list.append(my_list) \n"
   ]
  },
  {
   "cell_type": "code",
   "execution_count": 5,
   "metadata": {
    "scrolled": true
   },
   "outputs": [
    {
     "data": {
      "text/plain": [
       "[['type-Tipo-http://purl.org/dc/terms/type'],\n",
       " ['modified-Modificado-http://purl.org/dc/terms/modified'],\n",
       " ['language-Idioma-http://purl.org/dc/terms/language'],\n",
       " ['license-Licencia-http://purl.org/dc/terms/license'],\n",
       " ['rightsHolder-Titular de los derechos-http://purl.org/dc/terms/rightsHolder'],\n",
       " ['accessRights-Derechos de acceso-http://purl.org/dc/terms/accessRights'],\n",
       " ['bibliographicCitation-Citación bibliográfica-http://purl.org/dc/terms/bibliographicCitation'],\n",
       " ['references-Referencias-http://purl.org/dc/terms/references'],\n",
       " ['institutionID-ID de la institución-http://rs.tdwg.org/dwc/terms/institutionID'],\n",
       " ['collectionID-ID de la colección-http://rs.tdwg.org/dwc/terms/collectionID'],\n",
       " ['datasetID-ID del conjunto de datos-http://rs.tdwg.org/dwc/terms/datasetID'],\n",
       " ['institutionCode-Código de la institución-http://rs.tdwg.org/dwc/terms/institutionCode'],\n",
       " ['collectionCode-Código de la colección-http://rs.tdwg.org/dwc/terms/collectionCode'],\n",
       " ['datasetName-Nombre del conjunto de datos-http://rs.tdwg.org/dwc/terms/datasetName'],\n",
       " ['ownerInstitutionCode-Código de la institución propietaria-http://rs.tdwg.org/dwc/terms/ownerInstitutionCode'],\n",
       " ['basisOfRecord-Base del registro-http://rs.tdwg.org/dwc/terms/basisOfRecord'],\n",
       " ['informationWithheld-Información retenida-http://rs.tdwg.org/dwc/terms/informationWithheld'],\n",
       " ['dataGeneralizations-Generalización de los datos-http://rs.tdwg.org/dwc/terms/dataGeneralizations'],\n",
       " ['dynamicProperties-Propiedades dinámicas-http://rs.tdwg.org/dwc/terms/dynamicProperties']]"
      ]
     },
     "execution_count": 5,
     "metadata": {},
     "output_type": "execute_result"
    }
   ],
   "source": [
    "record_level_list"
   ]
  },
  {
   "cell_type": "markdown",
   "metadata": {},
   "source": [
    "https://stackoverflow.com/questions/364621/how-to-get-items-position-in-a-list "
   ]
  },
  {
   "cell_type": "code",
   "execution_count": 7,
   "metadata": {},
   "outputs": [],
   "source": [
    "element=record_level_list[3]"
   ]
  },
  {
   "cell_type": "code",
   "execution_count": 8,
   "metadata": {},
   "outputs": [
    {
     "data": {
      "text/plain": [
       "['license-Licencia-http://purl.org/dc/terms/license']"
      ]
     },
     "execution_count": 8,
     "metadata": {},
     "output_type": "execute_result"
    }
   ],
   "source": [
    "element"
   ]
  },
  {
   "cell_type": "code",
   "execution_count": 12,
   "metadata": {},
   "outputs": [
    {
     "name": "stdout",
     "output_type": "stream",
     "text": [
      "3\n"
     ]
    }
   ],
   "source": [
    "print (record_level_list.index(element)) #solucion rápida probar con tkinter (mucho más compleja)"
   ]
  },
  {
   "cell_type": "code",
   "execution_count": 13,
   "metadata": {},
   "outputs": [
    {
     "data": {
      "text/plain": [
       "19"
      ]
     },
     "execution_count": 13,
     "metadata": {},
     "output_type": "execute_result"
    }
   ],
   "source": [
    "len(record_level_list)"
   ]
  },
  {
   "cell_type": "code",
   "execution_count": 14,
   "metadata": {},
   "outputs": [],
   "source": [
    "element=record_level_list[18]"
   ]
  },
  {
   "cell_type": "code",
   "execution_count": 15,
   "metadata": {},
   "outputs": [
    {
     "name": "stdout",
     "output_type": "stream",
     "text": [
      "18\n"
     ]
    }
   ],
   "source": [
    "print (record_level_list.index(element)) #solucion rápida probar con tkinter (mucho más compleja)"
   ]
  },
  {
   "cell_type": "code",
   "execution_count": 1,
   "metadata": {},
   "outputs": [],
   "source": [
    "#ver como generar un csv o excel  con pandas que tenga dos filas como columnas"
   ]
  },
  {
   "cell_type": "code",
   "execution_count": 4,
   "metadata": {},
   "outputs": [
    {
     "ename": "NameError",
     "evalue": "name 'element' is not defined",
     "output_type": "error",
     "traceback": [
      "\u001b[1;31m---------------------------------------------------------------------------\u001b[0m",
      "\u001b[1;31mNameError\u001b[0m                                 Traceback (most recent call last)",
      "\u001b[1;32m<ipython-input-4-7c2186f626d0>\u001b[0m in \u001b[0;36m<module>\u001b[1;34m\u001b[0m\n\u001b[1;32m----> 1\u001b[1;33m \u001b[0melement\u001b[0m\u001b[1;33m\u001b[0m\u001b[1;33m\u001b[0m\u001b[0m\n\u001b[0m",
      "\u001b[1;31mNameError\u001b[0m: name 'element' is not defined"
     ]
    }
   ],
   "source": [
    "element"
   ]
  },
  {
   "cell_type": "code",
   "execution_count": 3,
   "metadata": {},
   "outputs": [
    {
     "data": {
      "text/plain": [
       "{'__name__': '__main__',\n",
       " '__doc__': 'Automatically created module for IPython interactive environment',\n",
       " '__package__': None,\n",
       " '__loader__': None,\n",
       " '__spec__': None,\n",
       " '__builtin__': <module 'builtins' (built-in)>,\n",
       " '__builtins__': <module 'builtins' (built-in)>,\n",
       " '_ih': ['',\n",
       "  '#ver como generar un csv o excel  con pandas que tenga dos filas como columnas',\n",
       "  'element',\n",
       "  'locals()'],\n",
       " '_oh': {},\n",
       " '_dh': ['C:\\\\Users\\\\oyane\\\\Documents\\\\GitHub\\\\Arboretum_Antumapu\\\\dwc_terms'],\n",
       " 'In': ['',\n",
       "  '#ver como generar un csv o excel  con pandas que tenga dos filas como columnas',\n",
       "  'element',\n",
       "  'locals()'],\n",
       " 'Out': {},\n",
       " 'get_ipython': <bound method InteractiveShell.get_ipython of <ipykernel.zmqshell.ZMQInteractiveShell object at 0x02A3A970>>,\n",
       " 'exit': <IPython.core.autocall.ZMQExitAutocall at 0x4c49470>,\n",
       " 'quit': <IPython.core.autocall.ZMQExitAutocall at 0x4c49470>,\n",
       " '_': '',\n",
       " '__': '',\n",
       " '___': '',\n",
       " '_i': 'element',\n",
       " '_ii': '#ver como generar un csv o excel  con pandas que tenga dos filas como columnas',\n",
       " '_iii': '',\n",
       " '_i1': '#ver como generar un csv o excel  con pandas que tenga dos filas como columnas',\n",
       " '_i2': 'element',\n",
       " '_i3': 'locals()'}"
      ]
     },
     "execution_count": 3,
     "metadata": {},
     "output_type": "execute_result"
    }
   ],
   "source": [
    "locals()"
   ]
  },
  {
   "cell_type": "code",
   "execution_count": null,
   "metadata": {},
   "outputs": [],
   "source": []
  }
 ],
 "metadata": {
  "kernelspec": {
   "display_name": "Python 3",
   "language": "python",
   "name": "python3"
  },
  "language_info": {
   "codemirror_mode": {
    "name": "ipython",
    "version": 3
   },
   "file_extension": ".py",
   "mimetype": "text/x-python",
   "name": "python",
   "nbconvert_exporter": "python",
   "pygments_lexer": "ipython3",
   "version": "3.7.1"
  }
 },
 "nbformat": 4,
 "nbformat_minor": 2
}
